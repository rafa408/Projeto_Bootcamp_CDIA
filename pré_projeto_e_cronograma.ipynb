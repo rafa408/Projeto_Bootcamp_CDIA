{
  "nbformat": 4,
  "nbformat_minor": 0,
  "metadata": {
    "colab": {
      "provenance": [],
      "authorship_tag": "ABX9TyPnTeSQNdSD6UepobgyQvXV",
      "include_colab_link": true
    },
    "kernelspec": {
      "name": "python3",
      "display_name": "Python 3"
    },
    "language_info": {
      "name": "python"
    }
  },
  "cells": [
    {
      "cell_type": "markdown",
      "metadata": {
        "id": "view-in-github",
        "colab_type": "text"
      },
      "source": [
        "<a href=\"https://colab.research.google.com/github/rafa408/Projeto_Bootcamp_CDIA/blob/main/pr%C3%A9_projeto_e_cronograma.ipynb\" target=\"_parent\"><img src=\"https://colab.research.google.com/assets/colab-badge.svg\" alt=\"Open In Colab\"/></a>"
      ]
    },
    {
      "cell_type": "markdown",
      "source": [
        "# **Pré-Projeto: Sistema Inteligente de Controle de Qualidade para Chapas de Aço Inoxidável**"
      ],
      "metadata": {
        "id": "Zi9JP4SE3fVH"
      }
    },
    {
      "cell_type": "markdown",
      "source": [
        "\n",
        "Objetivo\n",
        "\n",
        "Desenvolver um sistema inteligente capaz de detectar e classificar automaticamente defeitos em chapas de aço inoxidável a partir de dados extraídos de imagens de superfície.\n",
        "O sistema deve:\n",
        "\n",
        "* Prever a classe do defeito (entre sete classes) para novas amostras.\n",
        "\n",
        "* Retornar a probabilidade associada à previsão.\n",
        "\n",
        "* Extrair insights da operação e dos defeitos.\n",
        "\n",
        "* Gerar visualizações de dados relevantes."
      ],
      "metadata": {
        "id": "klEJKBTgu5fS"
      }
    },
    {
      "cell_type": "markdown",
      "source": [
        "Metodologia utilizada\n",
        "\n",
        "* CRISP-DM (Processo Padrão Interindústria para Mineração de Dados): Este será o framework geral para estruturar o processo de mineração de dados.\n",
        "\n",
        "* Princípios Ágeis: Incorporaremos princípios ágeis para desenvolvimento iterativo, flexibilidade e capacidade de resposta a mudanças. Especificamente, usaremos sprints curtos (reuniões diárias) para gerenciar o fluxo de trabalho, priorizar tarefas e garantir melhoria contínua."
      ],
      "metadata": {
        "id": "q4wAwl6ou-Z2"
      }
    },
    {
      "cell_type": "markdown",
      "source": [
        "\n",
        "\n",
        "Cronograma (11/05/2025 - 16/05/2025)\n",
        "\n",
        "**Sprint 1: Compreensão e Preparação dos Dados (11/05)**\n",
        "\n",
        "* Estágios CRISP-DM: Entendimento do Negócio, Entendimento dos Dados, Preparação dos Dados\n",
        "\n",
        "Tarefas:\n",
        "* Definir claramente os objetivos do projeto e os critérios de sucesso.\n",
        "* Carregar e explorar o conjunto de dados Bootcamp_train.csv.\n",
        "* Analisar distribuições de dados, valores ausentes e outliers.\n",
        "* Lidar com dados ausentes e outliers (se necessário).\n",
        "* Criar recursos (features) relevantes.\n",
        "* Lidar com o desbalanceamento de classes (se presente).\n",
        "* Dividir os dados em conjuntos de treinamento e validação.\n",
        "\n",
        "**Sprint 2: Modelagem e Avaliação (12/05 - 13/05)**\n",
        "\n",
        "* Estágio CRISP-DM: Modelagem, Avaliação\n",
        "\n",
        "Tarefas:\n",
        "* Selecionar algoritmos de classificação apropriados (por exemplo, Random * Forest, XGBoost, Support Vector Machines).\n",
        "* Treinar e ajustar os modelos usando os dados de treinamento.\n",
        "* Avaliar o desempenho do modelo no conjunto de validação usando métricas relevantes (por exemplo, acurácia, precisão, recall, escore F1, AUC).\n",
        "* Iterar na seleção de recursos e parâmetros do modelo para melhorar o desempenho.\n",
        "* Escolher o modelo de melhor desempenho.\n",
        "\n",
        "**Sprint 3: Teste e Visualização (14/05)**\n",
        "\n",
        "* Estágio CRISP-DM: Implantação (parcial, focando nos resultados para apresentação)\n",
        "\n",
        "Tarefas:\n",
        "* Preparar o conjunto de dados Bootcamp_test.csv para previsões.\n",
        "* Gerar previsões no conjunto de teste.\n",
        "* Criar visualizações para comunicar os principais achados e insights (por exemplo, importância do recurso, desempenho do modelo, análise de defeitos).\n",
        "* Desenvolver o material de apresentação.\n",
        "\n",
        "**Sprint 4: Preparação da Apresentação (15/05)**\n",
        "\n",
        "Tarefas:\n",
        "* Refinar a apresentação com base no feedback.\n",
        "* Praticar a apresentação.\n",
        "* Finalizar o código e enviar para o GitHub.\n"
      ],
      "metadata": {
        "id": "uVcBoabEvBRi"
      }
    },
    {
      "cell_type": "markdown",
      "source": [
        "Metodologia ágil\n",
        "\n",
        "Metodologia Ágil Detalhada\n",
        "\n",
        "* Sprints: Conforme descrito no Cronograma, o trabalho será dividido em sprints curtos e com tempo definido (diariamente).\n",
        "\n",
        "* Task Board (por exemplo, Trello, Jira): Para visualizar o fluxo de trabalho (A Fazer, Em Andamento, Concluído).\n",
        "* Desenvolvimento Iterativo: Cada sprint se baseia no anterior. Por exemplo, os insights obtidos durante a EDA no Sprint 1 informarão as escolhas de modelagem no Sprint 2.\n",
        "* Melhoria Contínua: Refletiremos sobre cada sprint para identificar áreas de melhoria em nosso processo."
      ],
      "metadata": {
        "id": "PYaOsU4FvD7G"
      }
    },
    {
      "cell_type": "code",
      "source": [
        "import pandas as pd\n",
        "import matplotlib.pyplot as plt\n",
        "import seaborn as sns\n",
        "from tabulate import tabulate\n",
        "\n",
        "# --- Definição do Projeto ---\n",
        "projeto_nome = \"Sistema Inteligente de Controle de Qualidade para Chapas de Aço Inoxidável\"\n",
        "objetivo = \"\"\"\n",
        "Desenvolver um sistema inteligente capaz de detectar e classificar automaticamente defeitos em chapas de aço inoxidável a partir de dados extraídos de imagens de superfície. O sistema deve:\n",
        "\n",
        "- Prever a classe do defeito (entre sete classes) para novas amostras.\n",
        "- Retornar a probabilidade associada à previsão.\n",
        "- Extrair insights da operação e dos defeitos.\n",
        "- Gerar visualizações de dados relevantes.\n",
        "\"\"\"\n",
        "metodologia = \"\"\"\n",
        "CRISP-DM (Cross-Industry Standard Process for Data Mining) e Princípios Ágeis (Scrum com Sprints diários)\n",
        "\"\"\"\n",
        "\n",
        "# --- Cronograma ---\n",
        "cronograma_data = {\n",
        "    \"Sprint\": [1, 2, 3, 4, \"Apresentação\"],\n",
        "    \"Data_Inicio\": [\"11/05/2025\", \"12/05/2025\", \"14/05/2025\", \"15/05/2025\", \"16/05/2025\"],\n",
        "    \"Data_Fim\": [\"11/05/2025\", \"13/05/2025\", \"14/05/2025\", \"15/05/2025\", \"16/05/2025\"],\n",
        "    \"Estágio CRISP-DM\": [\n",
        "        \"Entendimento do Negócio, Entendimento dos Dados, Preparação dos Dados\",\n",
        "        \"Modelagem, Avaliação\",\n",
        "        \"Implantação (Parcial)\",\n",
        "        \"Preparação da Apresentação\",\n",
        "        \"Apresentação\"\n",
        "    ],\n",
        "    \"Tarefas Principais\": [\n",
        "        \"\"\"\n",
        "        1. Definir objetivos e critérios de sucesso.\n",
        "        2. Carregar e explorar Bootcamp_train.csv.\n",
        "        3. Analisar dados (distribuições, ausentes, outliers).\n",
        "        4. Tratar dados ausentes e outliers.\n",
        "        5. Engenharia de recursos.\n",
        "        6. Lidar com desbalanceamento de classes.\n",
        "        7. Dividir dados em treinamento e validação.\n",
        "        \"\"\",\n",
        "        \"\"\"\n",
        "        1. Selecionar algoritmos de classificação.\n",
        "        2. Treinar e ajustar modelos.\n",
        "        3. Avaliar desempenho do modelo.\n",
        "        4. Iterar em seleção de recursos e parâmetros.\n",
        "        5. Escolher o melhor modelo.\n",
        "        \"\"\",\n",
        "        \"\"\"\n",
        "        1. Preparar Bootcamp_test.csv para previsões.\n",
        "        2. Gerar previsões no conjunto de teste.\n",
        "        3. Criar visualizações de dados.\n",
        "        4. Desenvolver material de apresentação.\n",
        "        \"\"\",\n",
        "        \"\"\"\n",
        "        1. Refinar apresentação.\n",
        "        2. Praticar apresentação.\n",
        "        3. Finalizar código e enviar para o GitHub.\n",
        "        \"\"\",\n",
        "        \"Apresentar projeto\"\n",
        "    ]\n",
        "}\n",
        "\n",
        "cronograma_df = pd.DataFrame(cronograma_data)\n",
        "\n",
        "# --- Correções para garantir tratamento categórico ---\n",
        "cronograma_df[\"Sprint\"] = cronograma_df[\"Sprint\"].astype(str)\n",
        "\n",
        "# Converter datas para datetime\n",
        "cronograma_df['Data_Inicio'] = pd.to_datetime(cronograma_df['Data_Inicio'], format='%d/%m/%Y')\n",
        "cronograma_df['Data_Fim'] = pd.to_datetime(cronograma_df['Data_Fim'], format='%d/%m/%Y')\n",
        "\n",
        "# Calcular a duração\n",
        "cronograma_df['Duracao'] = (cronograma_df['Data_Fim'] - cronograma_df['Data_Inicio']).dt.days + 1\n",
        "\n",
        "# --- Visualizações ---\n",
        "\n",
        "# 1. Gráfico de Gantt Simplificado\n",
        "plt.figure(figsize=(10, 5))\n",
        "plt.barh(y=cronograma_df['Sprint'],\n",
        "         left=cronograma_df['Data_Inicio'],\n",
        "         width=cronograma_df['Duracao'],\n",
        "         color='skyblue')\n",
        "plt.title('Cronograma do Projeto (Estilo Gantt)')\n",
        "plt.xlabel('Data')\n",
        "plt.ylabel('Sprint')\n",
        "\n",
        "import matplotlib.dates as mdates\n",
        "plt.gca().xaxis.set_major_formatter(mdates.DateFormatter('%d/%m/%Y'))\n",
        "plt.gcf().autofmt_xdate()\n",
        "\n",
        "plt.show()\n",
        "\n",
        "# 2. Tabela Detalhada (Saída para Arquivo Excel)\n",
        "nome_arquivo_excel = \"cronograma_do_projeto.xlsx\"\n",
        "cronograma_df.to_excel(nome_arquivo_excel, index=False)\n",
        "print(f\"\\nCronograma salvo em '{nome_arquivo_excel}'\")\n",
        "\n",
        "# 3. Tabela Detalhada (Saída de Texto) com tabulate\n",
        "print(\"\\n--- Cronograma Detalhado do Projeto (Tabulate) ---\")\n",
        "print(tabulate(cronograma_df, headers=\"keys\", tablefmt=\"fancy_grid\"))\n",
        "\n",
        "# Adicione aqui outras visualizações conforme necessário"
      ],
      "metadata": {
        "colab": {
          "base_uri": "https://localhost:8080/",
          "height": 1000
        },
        "id": "rw-UliQW7ZZE",
        "outputId": "583a0d70-b9f2-4167-acf1-cb1972294e6b"
      },
      "execution_count": null,
      "outputs": [
        {
          "output_type": "display_data",
          "data": {
            "text/plain": [
              "<Figure size 1000x500 with 1 Axes>"
            ],
            "image/png": "[encoded data removed]"
          },
          "metadata": {}
        },
        {
          "output_type": "stream",
          "name": "stdout",
          "text": [
            "\n",
            "Cronograma salvo em 'cronograma_do_projeto.xlsx'\n",
            "\n",
            "--- Cronograma Detalhado do Projeto (Tabulate) ---\n",
            "╒════╤══════════════╤═════════════════════╤═════════════════════╤═══════════════════════════════════════════════════════════════════════╤════════════════════════════════════════════════════════════════╤═══════════╕\n",
            "│    │ Sprint       │ Data_Inicio         │ Data_Fim            │ Estágio CRISP-DM                                                      │ Tarefas Principais                                             │   Duracao │\n",
            "╞════╪══════════════╪═════════════════════╪═════════════════════╪═══════════════════════════════════════════════════════════════════════╪════════════════════════════════════════════════════════════════╪═══════════╡\n",
            "│  0 │ 1            │ 2025-05-11 00:00:00 │ 2025-05-11 00:00:00 │ Entendimento do Negócio, Entendimento dos Dados, Preparação dos Dados │ 1. Definir objetivos e critérios de sucesso.                   │         1 │\n",
            "│    │              │                     │                     │                                                                       │         2. Carregar e explorar Bootcamp_train.csv.             │           │\n",
            "│    │              │                     │                     │                                                                       │         3. Analisar dados (distribuições, ausentes, outliers). │           │\n",
            "│    │              │                     │                     │                                                                       │         4. Tratar dados ausentes e outliers.                   │           │\n",
            "│    │              │                     │                     │                                                                       │         5. Engenharia de recursos.                             │           │\n",
            "│    │              │                     │                     │                                                                       │         6. Lidar com desbalanceamento de classes.              │           │\n",
            "│    │              │                     │                     │                                                                       │         7. Dividir dados em treinamento e validação.           │           │\n",
            "├────┼──────────────┼─────────────────────┼─────────────────────┼───────────────────────────────────────────────────────────────────────┼────────────────────────────────────────────────────────────────┼───────────┤\n",
            "│  1 │ 2            │ 2025-05-12 00:00:00 │ 2025-05-13 00:00:00 │ Modelagem, Avaliação                                                  │ 1. Selecionar algoritmos de classificação.                     │         2 │\n",
            "│    │              │                     │                     │                                                                       │         2. Treinar e ajustar modelos.                          │           │\n",
            "│    │              │                     │                     │                                                                       │         3. Avaliar desempenho do modelo.                       │           │\n",
            "│    │              │                     │                     │                                                                       │         4. Iterar em seleção de recursos e parâmetros.         │           │\n",
            "│    │              │                     │                     │                                                                       │         5. Escolher o melhor modelo.                           │           │\n",
            "├────┼──────────────┼─────────────────────┼─────────────────────┼───────────────────────────────────────────────────────────────────────┼────────────────────────────────────────────────────────────────┼───────────┤\n",
            "│  2 │ 3            │ 2025-05-14 00:00:00 │ 2025-05-14 00:00:00 │ Implantação (Parcial)                                                 │ 1. Preparar Bootcamp_test.csv para previsões.                  │         1 │\n",
            "│    │              │                     │                     │                                                                       │         2. Gerar previsões no conjunto de teste.               │           │\n",
            "│    │              │                     │                     │                                                                       │         3. Criar visualizações de dados.                       │           │\n",
            "│    │              │                     │                     │                                                                       │         4. Desenvolver material de apresentação.               │           │\n",
            "├────┼──────────────┼─────────────────────┼─────────────────────┼───────────────────────────────────────────────────────────────────────┼────────────────────────────────────────────────────────────────┼───────────┤\n",
            "│  3 │ 4            │ 2025-05-15 00:00:00 │ 2025-05-15 00:00:00 │ Preparação da Apresentação                                            │ 1. Refinar apresentação.                                       │         1 │\n",
            "│    │              │                     │                     │                                                                       │         2. Praticar apresentação.                              │           │\n",
            "│    │              │                     │                     │                                                                       │         3. Finalizar código e enviar para o GitHub.            │           │\n",
            "├────┼──────────────┼─────────────────────┼─────────────────────┼───────────────────────────────────────────────────────────────────────┼────────────────────────────────────────────────────────────────┼───────────┤\n",
            "│  4 │ Apresentação │ 2025-05-16 00:00:00 │ 2025-05-16 00:00:00 │ Apresentação                                                          │ Apresentar projeto                                             │         1 │\n",
            "╘════╧══════════════╧═════════════════════╧═════════════════════╧═══════════════════════════════════════════════════════════════════════╧════════════════════════════════════════════════════════════════╧═══════════╛\n"
          ]
        }
      ]
    }
  ]
}